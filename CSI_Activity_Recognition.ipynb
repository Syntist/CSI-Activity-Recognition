{
  "cells": [
    {
      "cell_type": "markdown",
      "source": [
        "# CSI-Activity-Recognition\n",
        "\n",
        "Human Activity Recognition using Channel State Information for Wifi Applications\n",
        "\n",
        "A simple Tensorflow 2.0+ model using Bidirectional LSTM stacked with one Attention Layer.\n",
        "\n",
        "This code extends the previsous work of paper [A Survey on Behaviour Recognition Using WiFi Channel State Information](http://ieeexplore.ieee.org/document/8067693/) ([corresponding code](https://github.com/ermongroup/Wifi_Activity_Recognition)).\n",
        "\n",
        "## Dataset Preparation\n",
        "\n",
        "Download the public dataset from [here](https://drive.google.com/file/d/19uH0_z1MBLtmMLh8L4BlNA0w-XAFKipM/view?usp=sharing)."
      ],
      "metadata": {
        "id": "0RnpSPTSGdyi"
      }
    },
    {
      "cell_type": "code",
      "execution_count": null,
      "metadata": {
        "id": "WM9gjMxJB5ME"
      },
      "outputs": [],
      "source": [
        "\"\"\"\n",
        "The Codes in this file are used to classify Human Activity using Channel State Information. \n",
        "The deep learning architecture used here is Bidirectional LSTM stacked with One Attention Layer.\n",
        "Author: https://github.com/ludlows\n",
        "2019-12\n",
        "\"\"\"\n",
        "import numpy as np \n",
        "import tensorflow as tf\n",
        "import glob\n",
        "import os\n",
        "import csv\n",
        "\n",
        "\n",
        "def merge_csi_label(csifile, labelfile, win_len=1000, thrshd=0.6, step=200):\n",
        "    \"\"\"\n",
        "    Merge CSV files into a Numpy Array  X,  csi amplitude feature\n",
        "    Returns Numpy Array X, Shape(Num, Win_Len, 90)\n",
        "    Args:\n",
        "        csifile  :  str, csv file containing CSI data\n",
        "        labelfile:  str, csv fiel with activity label \n",
        "        win_len  :  integer, window length\n",
        "        thrshd   :  float,  determine if an activity is strong enough inside a window\n",
        "        step     :  integer, sliding window by step\n",
        "    \"\"\"\n",
        "    activity = []\n",
        "    with open(labelfile, 'r') as labelf:\n",
        "        reader = csv.reader(labelf)\n",
        "        for line in reader:\n",
        "            label  = line[0]\n",
        "            if label == 'NoActivity':\n",
        "                activity.append(0)\n",
        "            else:\n",
        "                activity.append(1)\n",
        "    activity = np.array(activity)\n",
        "    csi = []\n",
        "    with open(csifile, 'r') as csif:\n",
        "        reader = csv.reader(csif)\n",
        "        for line in reader:\n",
        "            line_array = np.array([float(v) for v in line])\n",
        "            # extract the amplitude only\n",
        "            line_array = line_array[1:91]\n",
        "            csi.append(line_array[np.newaxis,...])\n",
        "    csi = np.concatenate(csi, axis=0)\n",
        "    assert(csi.shape[0] == activity.shape[0])\n",
        "    # screen the data with a window\n",
        "    index = 0\n",
        "    feature = []\n",
        "    while index + win_len <= csi.shape[0]:\n",
        "        cur_activity = activity[index:index+win_len]\n",
        "        if np.sum(cur_activity)  <  thrshd * win_len:\n",
        "            index += step\n",
        "            continue\n",
        "        cur_feature = np.zeros((1, win_len, 90))\n",
        "        cur_feature[0] = csi[index:index+win_len, :]\n",
        "        feature.append(cur_feature)\n",
        "        index += step\n",
        "    return np.concatenate(feature, axis=0)\n",
        "\n",
        "\n",
        "def extract_csi_by_label(raw_folder, label, labels, save=False, win_len=1000, thrshd=0.6, step=200):\n",
        "    \"\"\"\n",
        "    Returns all the samples (X,y) of \"label\" in the entire dataset\n",
        "    Args:\n",
        "        raw_foler: The path of Dataset folder\n",
        "        label    : str, could be one of labels\n",
        "        labels   : list of str, ['bed', 'fall', 'pickup', 'run', 'sitdown', 'standup', 'walk']\n",
        "        save     : boolean, choose whether save the numpy array \n",
        "        win_len  :  integer, window length\n",
        "        thrshd   :  float,  determine if an activity is strong enough inside a window\n",
        "        step     :  integer, sliding window by step\n",
        "    \"\"\"\n",
        "    print('Starting Extract CSI for Label {}'.format(label))\n",
        "    label = label.lower()\n",
        "    if not label in labels:\n",
        "        raise ValueError(\"The label {} should be among 'bed','fall','pickup','run','sitdown','standup','walk'\".format(labels))\n",
        "    \n",
        "    data_path_pattern = os.path.join(raw_folder, 'input_*' + label + '*.csv')\n",
        "    input_csv_files = sorted(glob.glob(data_path_pattern))\n",
        "    annot_csv_files = [os.path.basename(fname).replace('input_', 'annotation_') for fname in input_csv_files]\n",
        "    annot_csv_files = [os.path.join(raw_folder, fname) for fname in annot_csv_files]\n",
        "    feature = []\n",
        "    index = 0\n",
        "    for csi_file, label_file in zip(input_csv_files, annot_csv_files):\n",
        "        index += 1\n",
        "        if not os.path.exists(label_file):\n",
        "            print('Warning! Label File {} doesn\\'t exist.'.format(label_file))\n",
        "            continue\n",
        "        feature.append(merge_csi_label(csi_file, label_file, win_len=win_len, thrshd=thrshd, step=step))\n",
        "        print('Finished {:.2f}% for Label {}'.format(index / len(input_csv_files) * 100,label))\n",
        "    \n",
        "    feat_arr = np.concatenate(feature, axis=0)\n",
        "    if save:\n",
        "        np.savez_compressed(\"X_{}_win_{}_thrshd_{}percent_step_{}.npz\".format(\n",
        "            label, win_len, int(thrshd*100), step), feat_arr)\n",
        "    # one hot\n",
        "    feat_label = np.zeros((feat_arr.shape[0], len(labels)))\n",
        "    feat_label[:, labels.index(label)] = 1\n",
        "    return feat_arr, feat_label\n",
        "\n",
        "\n",
        "def train_valid_split(numpy_tuple, train_portion=0.9, seed=379):\n",
        "    \"\"\"\n",
        "    Returns Train and Valid Datset with the format of (x_train, y_train, x_valid, y_valid),\n",
        "    where x_train and y_train are shuffled randomly.\n",
        "\n",
        "    Args:\n",
        "        numpy_tuple  : tuple of numpy array: (x_bed, x_fall, x_pickup, x_run, x_sitdown, x_standup, x_walk)\n",
        "        train_portion: float, range (0,1)\n",
        "        seed         : random seed\n",
        "    \"\"\"\n",
        "    np.random.seed(seed=seed)\n",
        "    x_train = []\n",
        "    x_valid = []\n",
        "    y_valid = []\n",
        "    y_train = []\n",
        "\n",
        "    for i, x_arr in enumerate(numpy_tuple):\n",
        "        index = np.random.permutation([i for i in range(x_arr.shape[0])])\n",
        "        split_len = int(train_portion * x_arr.shape[0])\n",
        "        x_train.append(x_arr[index[:split_len], ...])\n",
        "        tmpy = np.zeros((split_len,7))\n",
        "        tmpy[:, i] = 1\n",
        "        y_train.append(tmpy)\n",
        "        x_valid.append(x_arr[index[split_len:],...])\n",
        "        tmpy = np.zeros((x_arr.shape[0]-split_len,7))\n",
        "        tmpy[:, i] = 1\n",
        "        y_valid.append(tmpy)\n",
        "    \n",
        "    x_train = np.concatenate(x_train, axis=0)\n",
        "    y_train = np.concatenate(y_train, axis=0)\n",
        "    x_valid = np.concatenate(x_valid, axis=0)\n",
        "    y_valid = np.concatenate(y_valid, axis=0)\n",
        "\n",
        "    index = np.random.permutation([i for i in range(x_train.shape[0])])\n",
        "    x_train = x_train[index, ...]\n",
        "    y_train = y_train[index, ...]\n",
        "    return x_train, y_train, x_valid, y_valid\n",
        "    \n",
        "    \n",
        "\n",
        "def extract_csi(raw_folder, labels, save=False, win_len=1000, thrshd=0.6, step=200):\n",
        "    \"\"\"\n",
        "    Return List of Array in the format of [X_label1, y_label1, X_label2, y_label2, .... X_Label7, y_label7]\n",
        "    Args:\n",
        "        raw_folder: the folder path of raw CSI csv files, input_* annotation_*\n",
        "        labels    : all the labels existing in the folder\n",
        "        save      : boolean, choose whether save the numpy array \n",
        "        win_len   :  integer, window length\n",
        "        thrshd    :  float,  determine if an activity is strong enough inside a window\n",
        "        step      :  integer, sliding window by step\n",
        "    \"\"\"\n",
        "    ans = []\n",
        "    for label in labels:\n",
        "        feature_arr, label_arr = extract_csi_by_label(raw_folder, label, labels, save, win_len, thrshd, step)\n",
        "        ans.append(feature_arr)\n",
        "        ans.append(label_arr)\n",
        "    return tuple(ans)\n",
        "\n",
        "\n",
        "class AttenLayer(tf.keras.layers.Layer):\n",
        "    \"\"\"\n",
        "    Attention Layers used to Compute Weighted Features along Time axis\n",
        "    Args:\n",
        "        num_state :  number of hidden Attention state\n",
        "    \n",
        "    2019-12, https://github.com/ludlows\n",
        "    \"\"\"\n",
        "    def __init__(self, num_state, **kw):\n",
        "        super(AttenLayer, self).__init__(**kw)\n",
        "        self.num_state = num_state\n",
        "    \n",
        "    def build(self, input_shape):\n",
        "        self.kernel = self.add_weight('kernel', shape=[input_shape[-1], self.num_state])\n",
        "        self.bias = self.add_weight('bias', shape=[self.num_state])\n",
        "        self.prob_kernel = self.add_weight('prob_kernel', shape=[self.num_state])\n",
        "\n",
        "    def call(self, input_tensor):\n",
        "        atten_state = tf.tanh(tf.tensordot(input_tensor, self.kernel, axes=1) + self.bias)\n",
        "        logits = tf.tensordot(atten_state, self.prob_kernel, axes=1)\n",
        "        prob = tf.nn.softmax(logits)\n",
        "        weighted_feature = tf.reduce_sum(tf.multiply(input_tensor, tf.expand_dims(prob, -1)), axis=1)\n",
        "        return weighted_feature\n",
        "    \n",
        "    # for saving the model\n",
        "    def get_config(self):\n",
        "        config = super().get_config().copy()\n",
        "        config.update({\n",
        "            'num_state': self.num_state,})\n",
        "        return config\n",
        "\n",
        "\n",
        "class CSIModelConfig:\n",
        "    \"\"\"\n",
        "    class for Human Activity Recognition (\"bed\", \"fall\", \"pickup\", \"run\", \"sitdown\", \"standup\", \"walk\")\n",
        "    Using CSI (Channel State Information)\n",
        "    Specifically, the author here wants to classify Human Activity using Channel State Information. \n",
        "    The deep learning architecture used here is Bidirectional LSTM stacked with One Attention Layer.\n",
        "       2019-12, https://github.com/ludlows\n",
        "    Args:\n",
        "        win_len   :  integer (1000 default) window length for batching sequence\n",
        "        step      :  integer (200  default) sliding window by this step\n",
        "        thrshd    :  float   (0.6  default) used to check if the activity is intensive inside a window\n",
        "        downsample:  integer >=1 (2 default) downsample along the time axis\n",
        "    \"\"\"\n",
        "    def __init__(self, win_len=1000, step=200, thrshd=0.6, downsample=2):\n",
        "        self._win_len = win_len\n",
        "        self._step = step\n",
        "        self._thrshd = thrshd\n",
        "        self._labels = (\"bed\", \"fall\", \"pickup\", \"run\", \"sitdown\", \"standup\", \"walk\")\n",
        "        self._downsample = downsample\n",
        "\n",
        "    def preprocessing(self, raw_folder, save=False):\n",
        "        \"\"\"\n",
        "        Returns the Numpy Array for training within the format of (X_lable1, y_label1, ...., X_label7, y_label7)\n",
        "        Args:\n",
        "            raw_folder: the folder containing raw CSI \n",
        "            save      : choose if save the numpy array\n",
        "        \"\"\"\n",
        "        numpy_tuple = extract_csi(raw_folder, self._labels, save, self._win_len, self._thrshd, self._step)\n",
        "        if self._downsample > 1:\n",
        "            return tuple([v[:, ::self._downsample,...] if i%2 ==0 else v for i, v in enumerate(numpy_tuple)])\n",
        "        return numpy_tuple\n",
        "    \n",
        "    def load_csi_data_from_files(self, np_files):\n",
        "        \"\"\"\n",
        "        Returns the Numpy Array for training within the format of (X_lable1, y_label1, ...., X_label7, y_label7)\n",
        "        Args:\n",
        "            np_files: ('x_bed.npz', 'x_fall.npz', 'x_pickup.npz', 'x_run.npz', 'x_sitdown.npz', 'x_standup.npz', 'x_walk.npz')\n",
        "        \"\"\"\n",
        "        if len(np_files) != 7:\n",
        "            raise ValueError('There should be 7 numpy files for bed, fall, pickup, run, sitdown, standup, walk.')\n",
        "        x = [np.load(f)['arr_0'] for f in np_files]\n",
        "        if self._downsample > 1:\n",
        "            x = [arr[:,::self._downsample, :] for arr in x]\n",
        "        y = [np.zeros((arr.shape[0], len(self._labels))) for arr in x]\n",
        "        numpy_list = []\n",
        "        for i in range(len(self._labels)):\n",
        "            y[i][:,i] = 1\n",
        "            numpy_list.append(x[i])\n",
        "            numpy_list.append(y[i])\n",
        "        return tuple(numpy_list)\n",
        "\n",
        "\n",
        "    \n",
        "    def build_model(self, n_unit_lstm=200, n_unit_atten=400):\n",
        "        \"\"\"\n",
        "        Returns the Tensorflow Model which uses AttenLayer\n",
        "        \"\"\"\n",
        "        if self._downsample > 1:\n",
        "            length = len(np.ones((self._win_len,))[::self._downsample])\n",
        "            x_in = tf.keras.Input(shape=(length, 90))\n",
        "        else:\n",
        "            x_in = tf.keras.Input(shape=(self._win_len, 90))\n",
        "        x_tensor = tf.keras.layers.Bidirectional(tf.keras.layers.LSTM(units=n_unit_lstm, return_sequences=True))(x_in)\n",
        "        x_tensor = AttenLayer(n_unit_atten)(x_tensor)\n",
        "        pred = tf.keras.layers.Dense(len(self._labels), activation='softmax')(x_tensor)\n",
        "        model = tf.keras.Model(inputs=x_in, outputs=pred)\n",
        "        return model\n",
        "    \n",
        "    \n",
        "    @staticmethod\n",
        "    def load_model(hdf5path):\n",
        "        \"\"\"\n",
        "        Returns the Tensorflow Model for AttenLayer\n",
        "        Args:\n",
        "            hdf5path: str, the model file path\n",
        "        \"\"\"\n",
        "        model = tf.keras.models.load_model(hdf5path, custom_objects={'AttenLayer':AttenLayer})\n",
        "        return model\n",
        "    "
      ]
    },
    {
      "cell_type": "markdown",
      "source": [
        "Data is uploaded on Google Drive\n",
        "\n",
        "Inside the dataset, there are 7 different human activities: `bed`, `fall`, `pickup`, `run`, `sitdown`, `standup` and `walk`.\n",
        "\n",
        "Proccessing the data and merging into classes.\n"
      ],
      "metadata": {
        "id": "1ZmKTIpIGx6H"
      }
    },
    {
      "cell_type": "code",
      "source": [
        "raw_data_foler = '/content/drive/MyDrive/Dataset/Data'\n",
        "\n",
        "# preprocessing\n",
        "cfg = CSIModelConfig(win_len=1000, step=200, thrshd=0.6, downsample=2)\n",
        "numpy_tuple = cfg.preprocessing('/content/drive/MyDrive/Dataset/Data', save=True)\n",
        "# load previous saved numpy files, ignore this if you haven't saved numpy array to files before\n",
        "numpy_tuple = cfg.load_csi_data_from_files(('/content/drive/MyDrive/ProcessData/x_bed.npz', \n",
        "                                            '/content/drive/MyDrive/ProcessData/x_fall.npz', \n",
        "                                            '/content/drive/MyDrive/ProcessData/x_pickup.npz', \n",
        "                                            '/content/drive/MyDrive/ProcessData/x_run.npz', \n",
        "                                            '/content/drive/MyDrive/ProcessData/x_sitdown.npz', \n",
        "                                            '/content/drive/MyDrive/ProcessData/x_standup.npz', \n",
        "                                            '/content/drive/MyDrive/ProcessData/x_walk.npz'))"
      ],
      "metadata": {
        "id": "VCkekq8okhKl"
      },
      "execution_count": null,
      "outputs": []
    },
    {
      "cell_type": "markdown",
      "source": [
        "Spliting Test Data and Test Data"
      ],
      "metadata": {
        "id": "ZI_K_3KxHBlv"
      }
    },
    {
      "cell_type": "code",
      "source": [
        "x_bed, y_bed, x_fall, y_fall, x_pickup, y_pickup, x_run, y_run, x_sitdown, y_sitdown, x_standup, y_standup, x_walk, y_walk = numpy_tuple\n",
        "x_train, y_train, x_valid, y_valid = train_valid_split(\n",
        "    (x_bed, x_fall, x_pickup, x_run, x_sitdown, x_standup, x_walk),\n",
        "    train_portion=0.9, seed=379)"
      ],
      "metadata": {
        "id": "fMBc3rHHlCwx"
      },
      "execution_count": null,
      "outputs": []
    },
    {
      "cell_type": "markdown",
      "source": [
        "## Learning Model"
      ],
      "metadata": {
        "id": "czBmiatcHfLX"
      }
    },
    {
      "cell_type": "code",
      "source": [
        "# parameters for Deep Learning Model\n",
        "model = cfg.build_model(n_unit_lstm=200, n_unit_atten=400)\n",
        "# train\n",
        "model.compile(\n",
        "    optimizer=tf.keras.optimizers.Adam(learning_rate=1e-4),\n",
        "    loss='categorical_crossentropy', \n",
        "    metrics=['accuracy'])\n",
        "model.summary()\n",
        "model.fit(\n",
        "    x_train,\n",
        "    y_train,\n",
        "    batch_size=128, epochs=20,\n",
        "    validation_data=(x_valid, y_valid),\n",
        "    callbacks=[\n",
        "        tf.keras.callbacks.ModelCheckpoint('best_atten.hdf5',\n",
        "                                            monitor='val_accuracy',\n",
        "                                            save_best_only=True,\n",
        "                                            save_weights_only=False)\n",
        "            ])"
      ],
      "metadata": {
        "colab": {
          "base_uri": "https://localhost:8080/"
        },
        "id": "O9--WOTilLZv",
        "outputId": "12938fef-dd9e-4283-9ccd-614105f6276f"
      },
      "execution_count": null,
      "outputs": [
        {
          "output_type": "stream",
          "name": "stdout",
          "text": [
            "Model: \"model\"\n",
            "_________________________________________________________________\n",
            " Layer (type)                Output Shape              Param #   \n",
            "=================================================================\n",
            " input_1 (InputLayer)        [(None, 500, 90)]         0         \n",
            "                                                                 \n",
            " bidirectional (Bidirectiona  (None, 500, 400)         465600    \n",
            " l)                                                              \n",
            "                                                                 \n",
            " atten_layer (AttenLayer)    (None, 400)               160800    \n",
            "                                                                 \n",
            " dense (Dense)               (None, 7)                 2807      \n",
            "                                                                 \n",
            "=================================================================\n",
            "Total params: 629,207\n",
            "Trainable params: 629,207\n",
            "Non-trainable params: 0\n",
            "_________________________________________________________________\n",
            "Epoch 1/20\n",
            "50/50 [==============================] - 25s 213ms/step - loss: 1.4290 - accuracy: 0.4845 - val_loss: 1.0897 - val_accuracy: 0.6573\n",
            "Epoch 2/20\n",
            "50/50 [==============================] - 8s 165ms/step - loss: 0.9858 - accuracy: 0.6904 - val_loss: 0.8665 - val_accuracy: 0.7374\n",
            "Epoch 3/20\n",
            "50/50 [==============================] - 9s 171ms/step - loss: 0.8252 - accuracy: 0.7473 - val_loss: 0.7207 - val_accuracy: 0.7879\n",
            "Epoch 4/20\n",
            "50/50 [==============================] - 9s 172ms/step - loss: 0.7116 - accuracy: 0.7843 - val_loss: 0.6300 - val_accuracy: 0.7992\n",
            "Epoch 5/20\n",
            "50/50 [==============================] - 53s 1s/step - loss: 0.6104 - accuracy: 0.8148 - val_loss: 0.5359 - val_accuracy: 0.8427\n",
            "Epoch 6/20\n",
            "50/50 [==============================] - 9s 174ms/step - loss: 0.5609 - accuracy: 0.8361 - val_loss: 0.4807 - val_accuracy: 0.8694\n",
            "Epoch 7/20\n",
            "50/50 [==============================] - 9s 171ms/step - loss: 0.5040 - accuracy: 0.8562 - val_loss: 0.4490 - val_accuracy: 0.8834\n",
            "Epoch 8/20\n",
            "50/50 [==============================] - 8s 170ms/step - loss: 0.4642 - accuracy: 0.8658 - val_loss: 0.3983 - val_accuracy: 0.9003\n",
            "Epoch 9/20\n",
            "50/50 [==============================] - 9s 171ms/step - loss: 0.4220 - accuracy: 0.8810 - val_loss: 0.3870 - val_accuracy: 0.9031\n",
            "Epoch 10/20\n",
            "50/50 [==============================] - 8s 168ms/step - loss: 0.3920 - accuracy: 0.8945 - val_loss: 0.3398 - val_accuracy: 0.9256\n",
            "Epoch 11/20\n",
            "50/50 [==============================] - 8s 165ms/step - loss: 0.3585 - accuracy: 0.9053 - val_loss: 0.3445 - val_accuracy: 0.9228\n",
            "Epoch 12/20\n",
            "50/50 [==============================] - 8s 163ms/step - loss: 0.3342 - accuracy: 0.9116 - val_loss: 0.2904 - val_accuracy: 0.9284\n",
            "Epoch 13/20\n",
            "50/50 [==============================] - 8s 164ms/step - loss: 0.3164 - accuracy: 0.9176 - val_loss: 0.2976 - val_accuracy: 0.9438\n",
            "Epoch 14/20\n",
            "50/50 [==============================] - 8s 165ms/step - loss: 0.3187 - accuracy: 0.9152 - val_loss: 0.2808 - val_accuracy: 0.9382\n",
            "Epoch 15/20\n",
            "50/50 [==============================] - 8s 169ms/step - loss: 0.2718 - accuracy: 0.9316 - val_loss: 0.2399 - val_accuracy: 0.9340\n",
            "Epoch 16/20\n",
            "50/50 [==============================] - 9s 174ms/step - loss: 0.2553 - accuracy: 0.9341 - val_loss: 0.2420 - val_accuracy: 0.9494\n",
            "Epoch 17/20\n",
            "50/50 [==============================] - 9s 174ms/step - loss: 0.2343 - accuracy: 0.9421 - val_loss: 0.2321 - val_accuracy: 0.9494\n",
            "Epoch 18/20\n",
            "50/50 [==============================] - 8s 168ms/step - loss: 0.2270 - accuracy: 0.9425 - val_loss: 0.2133 - val_accuracy: 0.9522\n",
            "Epoch 19/20\n",
            "50/50 [==============================] - 8s 168ms/step - loss: 0.2087 - accuracy: 0.9499 - val_loss: 0.2000 - val_accuracy: 0.9551\n",
            "Epoch 20/20\n",
            "50/50 [==============================] - 8s 168ms/step - loss: 0.1973 - accuracy: 0.9526 - val_loss: 0.1916 - val_accuracy: 0.9635\n"
          ]
        },
        {
          "output_type": "execute_result",
          "data": {
            "text/plain": [
              "<keras.callbacks.History at 0x7f30a076eeb0>"
            ]
          },
          "metadata": {},
          "execution_count": 4
        }
      ]
    },
    {
      "cell_type": "markdown",
      "source": [
        "# Evaluating Model"
      ],
      "metadata": {
        "id": "o_a88R3KK504"
      }
    },
    {
      "cell_type": "code",
      "source": [
        " # load the best model\n",
        "model = cfg.load_model('best_atten.hdf5')\n",
        "y_pred = model.predict(x_valid)\n"
      ],
      "metadata": {
        "colab": {
          "base_uri": "https://localhost:8080/",
          "height": 0
        },
        "id": "lhI0dCrZlRQc",
        "outputId": "01354a85-b719-41e8-aff1-33af37b8198f"
      },
      "execution_count": 36,
      "outputs": [
        {
          "output_type": "stream",
          "name": "stdout",
          "text": [
            "23/23 [==============================] - 2s 31ms/step\n"
          ]
        }
      ]
    },
    {
      "cell_type": "markdown",
      "source": [
        "# Accuracy Metric"
      ],
      "metadata": {
        "id": "rHkzpFXJK_sb"
      }
    },
    {
      "cell_type": "code",
      "source": [
        "import tensorflow as tf\n",
        " \n",
        "accuracy = tf.metrics.Accuracy()\n",
        "\n",
        "accuracy.update_state(np.argmax(y_valid, axis=1), np.argmax(y_pred, axis=1))\n",
        "result = accuracy.result()\n",
        "\n",
        "print(result)"
      ],
      "metadata": {
        "colab": {
          "base_uri": "https://localhost:8080/",
          "height": 0
        },
        "id": "3m6nqR6nI25O",
        "outputId": "0f7fb587-f4aa-4678-f454-cdf5aee14194"
      },
      "execution_count": 37,
      "outputs": [
        {
          "output_type": "stream",
          "name": "stdout",
          "text": [
            "tf.Tensor(0.96348315, shape=(), dtype=float32)\n"
          ]
        }
      ]
    },
    {
      "cell_type": "markdown",
      "source": [
        "# Confusion Metrics\n",
        "\n",
        "\n",
        "\n"
      ],
      "metadata": {
        "id": "qEtl_eGrLC2W"
      }
    },
    {
      "cell_type": "code",
      "source": [
        "from sklearn import metrics\n",
        "import matplotlib.pyplot as plt\n",
        "\n",
        "confusion_matrix = metrics.confusion_matrix(np.argmax(y_valid, axis=1), np.argmax(y_pred, axis=1))\n",
        "\n",
        "cm_display = metrics.ConfusionMatrixDisplay(confusion_matrix = confusion_matrix, display_labels = [\"bed\", \"fall\", \n",
        "                                                                                                   \"pickup\", \"run\", \n",
        "                                                                                                   \"sitdown\", \"standup\", \"walk\"])\n",
        "\n",
        "cm_display.plot()\n",
        "plt.show()"
      ],
      "metadata": {
        "id": "yOPkKe5e84f-",
        "colab": {
          "base_uri": "https://localhost:8080/",
          "height": 280
        },
        "outputId": "3c3f5507-4029-4947-e403-1db4e1ae011e"
      },
      "execution_count": 38,
      "outputs": [
        {
          "output_type": "display_data",
          "data": {
            "text/plain": [
              "<Figure size 432x288 with 2 Axes>"
            ],
            "image/png": "[encoded data removed]"
          },
          "metadata": {
            "needs_background": "light"
          }
        }
      ]
    }
  ],
  "metadata": {
    "accelerator": "GPU",
    "colab": {
      "provenance": []
    },
    "gpuClass": "standard",
    "kernelspec": {
      "display_name": "Python 3",
      "name": "python3"
    },
    "language_info": {
      "name": "python"
    }
  },
  "nbformat": 4,
  "nbformat_minor": 0
}